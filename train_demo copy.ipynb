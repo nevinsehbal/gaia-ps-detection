{
 "cells": [
  {
   "cell_type": "markdown",
   "metadata": {},
   "source": [
    "## Training demo for any model with custom loss function and SeismicDataLoader\n",
    "\n",
    "In this demo, SeismicConvLSTM is used as the model and CustomLoss is used as the loss function.\n",
    "- This demo uses train and validation dataloaders from dataloader.py. If you haven't seen dataloader_demo.ipynb, check it first.\n",
    "- First, import train and validation dataloader\n",
    "- Next, import custom loss function from customloss.py\n",
    "- Next, we add SeismicConvLSTM model for demo purposes\n",
    "- Next, import torch optimizer (we will use Adam, if you use other optimizers, import it)\n",
    "- Then, we add matplotlib plt for traning, validation graph plotting\n",
    "- Finally, add train_model function from trainer.py"
   ]
  },
  {
   "cell_type": "code",
   "execution_count": 4,
   "metadata": {},
   "outputs": [
    {
     "name": "stdout",
     "output_type": "stream",
     "text": [
      "\u001b[96m[I] Checking if the dataset is downloaded with the name afad_hfd5.zip\u001b[0m\n",
      "\u001b[93m[W] Dataset is not found, downloading the dataset\u001b[0m\n"
     ]
    },
    {
     "name": "stderr",
     "output_type": "stream",
     "text": [
      "Downloading...\n",
      "From (original): https://drive.google.com/uc?id=1isvI3lELKocPuF2mIjMiMpXrcaoWTaIQ\n",
      "From (redirected): https://drive.google.com/uc?id=1isvI3lELKocPuF2mIjMiMpXrcaoWTaIQ&confirm=t&uuid=e8ca48e9-c6a7-4fcc-8ee2-176d7bb9bc19\n",
      "To: /home/hekimoglu/workspace/git/gaia-ps-detection/afad_hdf5.zip\n",
      "100%|██████████| 497M/497M [00:07<00:00, 65.5MB/s] \n",
      "/home/hekimoglu/workspace/git/gaia-ps-detection/customDataset.py:53: RuntimeWarning: overflow encountered in scalar multiply\n",
      "  s_idx = int(s_ts*sampling_rate)\n"
     ]
    },
    {
     "name": "stdout",
     "output_type": "stream",
     "text": [
      "\u001b[92m[S] Dataset is downloaded, loading the dataset\u001b[0m\n"
     ]
    },
    {
     "name": "stderr",
     "output_type": "stream",
     "text": [
      "/home/hekimoglu/workspace/git/gaia-ps-detection/customDataset.py:47: RuntimeWarning: overflow encountered in scalar multiply\n",
      "  p_idx = int(p_ts*sampling_rate)\n"
     ]
    },
    {
     "name": "stdout",
     "output_type": "stream",
     "text": [
      "\u001b[95m---------------- Dataset information: ----------------\u001b[0m\n",
      "\u001b[96m[I] Sample rate: 100 Hz\u001b[0m\n",
      "\u001b[96m[I] Chosen window size:900\u001b[0m\n",
      "\u001b[96m[I] Hopping size:300\u001b[0m\n",
      "\u001b[96m[I] Each sample is window_size/sample rate seconds long. Each sample has 3 channels.\u001b[0m\n",
      "\u001b[96m[I] Dataset values shape is: [num_samples, num_window, num_channel, (height) 1, (width) num_sample_points]\u001b[0m\n",
      "\u001b[96m[I] Dataset value shape: torch.Size([1575, 3, 3, 1, 900])\u001b[0m\n",
      "\u001b[96m[I] Dataset labels shape is: [num_samples, 4], where the 4 values are [p_idx, s_idx, no_PS, only_P, only_S, both_PS]\u001b[0m\n",
      "\u001b[96m[I] Dataset label shape:torch.Size([4725, 6])\u001b[0m\n",
      "\u001b[96m[I] One sample shape: torch.Size([3, 3, 1, 900])\u001b[0m\n",
      "\u001b[96m[I] One label shape: torch.Size([6])\u001b[0m\n",
      "\u001b[96m[I] ----------------------------------------------------\u001b[0m\n",
      "\u001b[96m[I] Some label examples in the dataset:\u001b[0m\n",
      "\u001b[96m[I] Label: tensor([-1., -1.,  1.,  0.,  0.,  0.])\u001b[0m\n",
      "\u001b[96m[I] Label: tensor([894.,  -1.,   0.,   1.,   0.,   0.])\u001b[0m\n",
      "\u001b[96m[I] Label: tensor([359., 953.,   0.,   0.,   0.,   1.])\u001b[0m\n",
      "\u001b[96m[I] Label: tensor([    1286.,       -1.,        0.,        1.,        0.,        0.])\u001b[0m\n",
      "\u001b[92m[S] --------------------------\n",
      "Dataloaders are created.\u001b[0m\n",
      "\u001b[92m[S] Train dataloader size:1280\u001b[0m\n",
      "\u001b[92m[S] Validation dataloader size:160\u001b[0m\n",
      "\u001b[92m[S] Test dataloader size:158\u001b[0m\n",
      "\u001b[92m[S] --------------------------\n",
      "\u001b[0m\n"
     ]
    }
   ],
   "source": [
    "from dataloader import train_dataloader, val_dataloader\n",
    "from customLoss import CustomLoss\n",
    "from convlstm import SeismicConvLSTM, ModifiedSeismicConvLSTM\n",
    "import torch.optim as optim\n",
    "import matplotlib.pyplot as plt\n",
    "from trainer import train_model, train_model_with_logging"
   ]
  },
  {
   "cell_type": "markdown",
   "metadata": {},
   "source": [
    "### Model setup\n",
    "\n",
    "This below cell creates a model instance. If you'd like to use your own model, change this cell.\n",
    "The example SeismicConvLSTM model takes the below inputs:\n",
    "- input channel size\n",
    "- output dimension\n",
    "- numer of sequence windows\n",
    "- data points in each window\n",
    "- hidden dimensions of convlstm cells\n",
    "- kernel size of conv layers\n",
    "- number of convlstm cells\n",
    "\n",
    "model variable is used to keep the model"
   ]
  },
  {
   "cell_type": "code",
   "execution_count": 5,
   "metadata": {},
   "outputs": [],
   "source": [
    "# Example instantiation of SeismicConvLSTM\n",
    "input_dim = 3  # Number of input channels\n",
    "hidden_dims = [32, 32, 64, 64, 128]  # Hidden dimensions for each ConvLSTM cell\n",
    "kernel_sizes = [(11, 1), (5, 1), (3, 1), (3, 1), (3, 1)]  # Kernel sizes for each cell\n",
    "strides = [(11, 1), (3, 1), (1, 1), (1, 1), (3, 1)]  # Strides for each ConvLSTM cell\n",
    "paddings = [(5, 0), (2, 0), (1, 0), (1, 0), (1, 0)]  # Paddings for each ConvLSTM cell\n",
    "num_layers = 5  # Number of layers\n",
    "output_dim = 6  # Output dimension [P_index, S_index, P_confidence, S_confidence]\n",
    "num_windows = 3 #900 # Number of windows (for flattening later)\n",
    "data_points = 900  #1 # Height is 1\n",
    " # self.fc1 = nn.Linear(hidden_dims[-1] * num_windows * 1 * data_points, 512)  # Adjusting dimensions according to hidden_dims[-1]\n",
    "model = ModifiedSeismicConvLSTM(input_dim, hidden_dims, kernel_sizes, strides, paddings, num_layers, output_dim, num_windows, data_points)"
   ]
  },
  {
   "cell_type": "code",
   "execution_count": 6,
   "metadata": {},
   "outputs": [
    {
     "name": "stdout",
     "output_type": "stream",
     "text": [
      "ModifiedSeismicConvLSTM(\n",
      "  (convlstm): ModifiedConvLSTM(\n",
      "    (cell_list): ModuleList(\n",
      "      (0): ModifiedConvLSTMCell(\n",
      "        (conv): Conv2d(35, 128, kernel_size=(11, 1), stride=(11, 1), padding=(5, 0))\n",
      "      )\n",
      "      (1): ModifiedConvLSTMCell(\n",
      "        (conv): Conv2d(64, 128, kernel_size=(5, 1), stride=(3, 1), padding=(2, 0))\n",
      "      )\n",
      "      (2): ModifiedConvLSTMCell(\n",
      "        (conv): Conv2d(96, 256, kernel_size=(3, 1), stride=(1, 1), padding=(1, 0))\n",
      "      )\n",
      "      (3): ModifiedConvLSTMCell(\n",
      "        (conv): Conv2d(128, 256, kernel_size=(3, 1), stride=(1, 1), padding=(1, 0))\n",
      "      )\n",
      "      (4): ModifiedConvLSTMCell(\n",
      "        (conv): Conv2d(192, 512, kernel_size=(3, 1), stride=(3, 1), padding=(1, 0))\n",
      "      )\n",
      "    )\n",
      "  )\n",
      "  (fc2): Linear(in_features=512, out_features=6, bias=True)\n",
      ")\n"
     ]
    }
   ],
   "source": [
    "print(model)"
   ]
  },
  {
   "cell_type": "code",
   "execution_count": 7,
   "metadata": {},
   "outputs": [],
   "source": [
    "# # Define the model\n",
    "# # We are dynamically fetching the input channels, num_windows, data_points_of_each_window, and the output_dim from the dataset using the dataloader\n",
    "# # Create an iterator from the dataloader\n",
    "# train_iter = iter(train_dataloader)\n",
    "# # Get the first batch\n",
    "# one_sample = next(train_iter) # one_sample[0].shape, one_sample[1].shape --> torch.Size([16, 3, 3, 1, 900]) torch.Size([16, 6])\n",
    "\n",
    "# INPUT_CHANNELS = one_sample[0].shape[2] # one_sample[0].shape[2] --> 3\n",
    "# OUTPUT_DIM = one_sample[1].shape[1] # one_sample[1].shape[1] --> 6\n",
    "# NUM_WINDOWS = one_sample[0].shape[1] # one_sample[0].shape[1] --> 3\n",
    "# DATA_POINTS_OF_EACH_WINDOW = one_sample[0].shape[4] # one_sample[0].shape[4] --> 900\n",
    "# HIDDEN_DIM = [32, 32, 64, 64, 128]\n",
    "# KERNEL_SIZE = (11, 5, 3, 3, 3)   \n",
    "# NUM_CONVLSTM_BLOCKS = 5\n",
    "# print(\"output_dim: \", OUTPUT_DIM)\n",
    "# assert len(HIDDEN_DIM) == NUM_CONVLSTM_BLOCKS, \"The number of hidden dimensions should be equal to the number of ConvLSTM blocks\"\n",
    "# model = SeismicConvLSTM(input_dim=INPUT_CHANNELS, hidden_dim=HIDDEN_DIM, kernel_size=KERNEL_SIZE, num_layers=NUM_CONVLSTM_BLOCKS, output_dim=OUTPUT_DIM, num_windows = NUM_WINDOWS, data_points = DATA_POINTS_OF_EACH_WINDOW)\n",
    "\n",
    "# print(model)"
   ]
  },
  {
   "cell_type": "markdown",
   "metadata": {},
   "source": [
    "### Training the model\n",
    "We have been created dataloaders and model. Now we will train the model with generic train function.\n",
    "- First, initialize optimizer. In this demo, Adam optimizer is used with lr = LEARNING_RATE.\n",
    "- Next, set the loss function as criterion. In this demo, CustomLoss function with lambda_val = CUSTOM_LOSS_LAMBDA is used.\n",
    "- Then, set the number of epochs.\n",
    "- Next, train the model. train_model function trains the model with train_dataloader, and validates after each epoch with val_dataloader"
   ]
  },
  {
   "cell_type": "code",
   "execution_count": 8,
   "metadata": {},
   "outputs": [
    {
     "name": "stdout",
     "output_type": "stream",
     "text": [
      "Initialized FC1 with input size: 345600\n",
      "Epoch 0/89, Training Loss: 376877.0069\n",
      "Validation Loss: 97627.9271\n",
      "Epoch 1/89, Training Loss: 104716.6967\n",
      "Validation Loss: 91508.6604\n",
      "Epoch 2/89, Training Loss: 101345.4860\n",
      "Validation Loss: 90014.4966\n",
      "Epoch 3/89, Training Loss: 101660.4119\n",
      "Validation Loss: 90204.4732\n",
      "Epoch 4/89, Training Loss: 101757.0233\n",
      "Validation Loss: 91719.7502\n",
      "Early stopping activated\n",
      "Epoch 5/89, Training Loss: 101538.3714\n",
      "Validation Loss: 90650.3306\n",
      "Epoch 6/89, Training Loss: 101564.3403\n",
      "Validation Loss: 89427.2360\n",
      "Epoch 7/89, Training Loss: 101425.6986\n",
      "Validation Loss: 90758.7577\n",
      "Epoch 8/89, Training Loss: 101397.8369\n",
      "Validation Loss: 90425.9416\n",
      "Epoch 9/89, Training Loss: 102314.9195\n",
      "Validation Loss: 88879.9453\n",
      "Epoch 10/89, Training Loss: 101469.6757\n",
      "Validation Loss: 91455.7387\n",
      "Epoch 11/89, Training Loss: 101882.2809\n",
      "Validation Loss: 90215.3931\n"
     ]
    },
    {
     "ename": "KeyboardInterrupt",
     "evalue": "",
     "output_type": "error",
     "traceback": [
      "\u001b[0;31m---------------------------------------------------------------------------\u001b[0m",
      "\u001b[0;31mKeyboardInterrupt\u001b[0m                         Traceback (most recent call last)",
      "Cell \u001b[0;32mIn[8], line 10\u001b[0m\n\u001b[1;32m      7\u001b[0m num_epochs \u001b[38;5;241m=\u001b[39m \u001b[38;5;241m90\u001b[39m\n\u001b[1;32m      9\u001b[0m \u001b[38;5;66;03m# Train the model with the training dataloader\u001b[39;00m\n\u001b[0;32m---> 10\u001b[0m model, train_losses, val_losses \u001b[38;5;241m=\u001b[39m \u001b[43mtrain_model_with_logging\u001b[49m\u001b[43m(\u001b[49m\u001b[43mmodel\u001b[49m\u001b[43m,\u001b[49m\u001b[43m \u001b[49m\u001b[43mtrain_dataloader\u001b[49m\u001b[43m,\u001b[49m\u001b[43m \u001b[49m\u001b[43mval_dataloader\u001b[49m\u001b[43m,\u001b[49m\u001b[43m \u001b[49m\u001b[43mcriterion\u001b[49m\u001b[43m,\u001b[49m\u001b[43m \u001b[49m\u001b[43moptimizer\u001b[49m\u001b[43m,\u001b[49m\u001b[43m \u001b[49m\u001b[43mnum_epochs\u001b[49m\u001b[43m,\u001b[49m\u001b[43m \u001b[49m\u001b[38;5;124;43m'\u001b[39;49m\u001b[38;5;124;43mtrain_log.csv\u001b[39;49m\u001b[38;5;124;43m'\u001b[39;49m\u001b[43m,\u001b[49m\u001b[43m \u001b[49m\u001b[43mearly_stopping\u001b[49m\u001b[38;5;241;43m=\u001b[39;49m\u001b[38;5;28;43;01mTrue\u001b[39;49;00m\u001b[43m)\u001b[49m\n",
      "File \u001b[0;32m~/workspace/git/gaia-ps-detection/trainer.py:45\u001b[0m, in \u001b[0;36mtrain_model_with_logging\u001b[0;34m(model, train_dataloader, val_dataloader, criterion, optimizer, num_epochs, log_file_p, early_stopping)\u001b[0m\n\u001b[1;32m     43\u001b[0m outputs \u001b[38;5;241m=\u001b[39m model(inputs)\n\u001b[1;32m     44\u001b[0m loss \u001b[38;5;241m=\u001b[39m criterion(outputs, labels)\n\u001b[0;32m---> 45\u001b[0m \u001b[43mloss\u001b[49m\u001b[38;5;241;43m.\u001b[39;49m\u001b[43mbackward\u001b[49m\u001b[43m(\u001b[49m\u001b[43m)\u001b[49m\n\u001b[1;32m     46\u001b[0m optimizer\u001b[38;5;241m.\u001b[39mstep()\n\u001b[1;32m     47\u001b[0m running_loss \u001b[38;5;241m+\u001b[39m\u001b[38;5;241m=\u001b[39m loss\u001b[38;5;241m.\u001b[39mitem() \u001b[38;5;241m*\u001b[39m inputs\u001b[38;5;241m.\u001b[39msize(\u001b[38;5;241m0\u001b[39m)\n",
      "File \u001b[0;32m~/workspace/git/gaia-ps-detection/gaia-venv/lib/python3.10/site-packages/torch/_tensor.py:581\u001b[0m, in \u001b[0;36mTensor.backward\u001b[0;34m(self, gradient, retain_graph, create_graph, inputs)\u001b[0m\n\u001b[1;32m    571\u001b[0m \u001b[38;5;28;01mif\u001b[39;00m has_torch_function_unary(\u001b[38;5;28mself\u001b[39m):\n\u001b[1;32m    572\u001b[0m     \u001b[38;5;28;01mreturn\u001b[39;00m handle_torch_function(\n\u001b[1;32m    573\u001b[0m         Tensor\u001b[38;5;241m.\u001b[39mbackward,\n\u001b[1;32m    574\u001b[0m         (\u001b[38;5;28mself\u001b[39m,),\n\u001b[0;32m   (...)\u001b[0m\n\u001b[1;32m    579\u001b[0m         inputs\u001b[38;5;241m=\u001b[39minputs,\n\u001b[1;32m    580\u001b[0m     )\n\u001b[0;32m--> 581\u001b[0m \u001b[43mtorch\u001b[49m\u001b[38;5;241;43m.\u001b[39;49m\u001b[43mautograd\u001b[49m\u001b[38;5;241;43m.\u001b[39;49m\u001b[43mbackward\u001b[49m\u001b[43m(\u001b[49m\n\u001b[1;32m    582\u001b[0m \u001b[43m    \u001b[49m\u001b[38;5;28;43mself\u001b[39;49m\u001b[43m,\u001b[49m\u001b[43m \u001b[49m\u001b[43mgradient\u001b[49m\u001b[43m,\u001b[49m\u001b[43m \u001b[49m\u001b[43mretain_graph\u001b[49m\u001b[43m,\u001b[49m\u001b[43m \u001b[49m\u001b[43mcreate_graph\u001b[49m\u001b[43m,\u001b[49m\u001b[43m \u001b[49m\u001b[43minputs\u001b[49m\u001b[38;5;241;43m=\u001b[39;49m\u001b[43minputs\u001b[49m\n\u001b[1;32m    583\u001b[0m \u001b[43m\u001b[49m\u001b[43m)\u001b[49m\n",
      "File \u001b[0;32m~/workspace/git/gaia-ps-detection/gaia-venv/lib/python3.10/site-packages/torch/autograd/__init__.py:347\u001b[0m, in \u001b[0;36mbackward\u001b[0;34m(tensors, grad_tensors, retain_graph, create_graph, grad_variables, inputs)\u001b[0m\n\u001b[1;32m    342\u001b[0m     retain_graph \u001b[38;5;241m=\u001b[39m create_graph\n\u001b[1;32m    344\u001b[0m \u001b[38;5;66;03m# The reason we repeat the same comment below is that\u001b[39;00m\n\u001b[1;32m    345\u001b[0m \u001b[38;5;66;03m# some Python versions print out the first line of a multi-line function\u001b[39;00m\n\u001b[1;32m    346\u001b[0m \u001b[38;5;66;03m# calls in the traceback and some print out the last line\u001b[39;00m\n\u001b[0;32m--> 347\u001b[0m \u001b[43m_engine_run_backward\u001b[49m\u001b[43m(\u001b[49m\n\u001b[1;32m    348\u001b[0m \u001b[43m    \u001b[49m\u001b[43mtensors\u001b[49m\u001b[43m,\u001b[49m\n\u001b[1;32m    349\u001b[0m \u001b[43m    \u001b[49m\u001b[43mgrad_tensors_\u001b[49m\u001b[43m,\u001b[49m\n\u001b[1;32m    350\u001b[0m \u001b[43m    \u001b[49m\u001b[43mretain_graph\u001b[49m\u001b[43m,\u001b[49m\n\u001b[1;32m    351\u001b[0m \u001b[43m    \u001b[49m\u001b[43mcreate_graph\u001b[49m\u001b[43m,\u001b[49m\n\u001b[1;32m    352\u001b[0m \u001b[43m    \u001b[49m\u001b[43minputs\u001b[49m\u001b[43m,\u001b[49m\n\u001b[1;32m    353\u001b[0m \u001b[43m    \u001b[49m\u001b[43mallow_unreachable\u001b[49m\u001b[38;5;241;43m=\u001b[39;49m\u001b[38;5;28;43;01mTrue\u001b[39;49;00m\u001b[43m,\u001b[49m\n\u001b[1;32m    354\u001b[0m \u001b[43m    \u001b[49m\u001b[43maccumulate_grad\u001b[49m\u001b[38;5;241;43m=\u001b[39;49m\u001b[38;5;28;43;01mTrue\u001b[39;49;00m\u001b[43m,\u001b[49m\n\u001b[1;32m    355\u001b[0m \u001b[43m\u001b[49m\u001b[43m)\u001b[49m\n",
      "File \u001b[0;32m~/workspace/git/gaia-ps-detection/gaia-venv/lib/python3.10/site-packages/torch/autograd/graph.py:825\u001b[0m, in \u001b[0;36m_engine_run_backward\u001b[0;34m(t_outputs, *args, **kwargs)\u001b[0m\n\u001b[1;32m    823\u001b[0m     unregister_hooks \u001b[38;5;241m=\u001b[39m _register_logging_hooks_on_whole_graph(t_outputs)\n\u001b[1;32m    824\u001b[0m \u001b[38;5;28;01mtry\u001b[39;00m:\n\u001b[0;32m--> 825\u001b[0m     \u001b[38;5;28;01mreturn\u001b[39;00m \u001b[43mVariable\u001b[49m\u001b[38;5;241;43m.\u001b[39;49m\u001b[43m_execution_engine\u001b[49m\u001b[38;5;241;43m.\u001b[39;49m\u001b[43mrun_backward\u001b[49m\u001b[43m(\u001b[49m\u001b[43m  \u001b[49m\u001b[38;5;66;43;03m# Calls into the C++ engine to run the backward pass\u001b[39;49;00m\n\u001b[1;32m    826\u001b[0m \u001b[43m        \u001b[49m\u001b[43mt_outputs\u001b[49m\u001b[43m,\u001b[49m\u001b[43m \u001b[49m\u001b[38;5;241;43m*\u001b[39;49m\u001b[43margs\u001b[49m\u001b[43m,\u001b[49m\u001b[43m \u001b[49m\u001b[38;5;241;43m*\u001b[39;49m\u001b[38;5;241;43m*\u001b[39;49m\u001b[43mkwargs\u001b[49m\n\u001b[1;32m    827\u001b[0m \u001b[43m    \u001b[49m\u001b[43m)\u001b[49m  \u001b[38;5;66;03m# Calls into the C++ engine to run the backward pass\u001b[39;00m\n\u001b[1;32m    828\u001b[0m \u001b[38;5;28;01mfinally\u001b[39;00m:\n\u001b[1;32m    829\u001b[0m     \u001b[38;5;28;01mif\u001b[39;00m attach_logging_hooks:\n",
      "\u001b[0;31mKeyboardInterrupt\u001b[0m: "
     ]
    }
   ],
   "source": [
    "LEARNING_RATE = 0.2\n",
    "optimizer = optim.Adam(model.parameters(), lr=LEARNING_RATE)\n",
    "\n",
    "CUSTOM_LOSS_LAMBDA = 2\n",
    "criterion = CustomLoss(lambda_val=CUSTOM_LOSS_LAMBDA)\n",
    "\n",
    "num_epochs = 90\n",
    "\n",
    "# Train the model with the training dataloader\n",
    "model, train_losses, val_losses = train_model_with_logging(model, train_dataloader, val_dataloader, criterion, optimizer, num_epochs, 'train_log.csv', early_stopping=True)"
   ]
  },
  {
   "cell_type": "code",
   "execution_count": 6,
   "metadata": {},
   "outputs": [
    {
     "name": "stdout",
     "output_type": "stream",
     "text": [
      "Model saved at:  models/model_20241017-1959_epoch90_lr0.2_lambda2_windows3_datapoints900.pth\n"
     ]
    },
    {
     "ename": "NameError",
     "evalue": "name 'train_losses' is not defined",
     "output_type": "error",
     "traceback": [
      "\u001b[0;31m---------------------------------------------------------------------------\u001b[0m",
      "\u001b[0;31mNameError\u001b[0m                                 Traceback (most recent call last)",
      "Cell \u001b[0;32mIn[6], line 20\u001b[0m\n\u001b[1;32m     17\u001b[0m \u001b[38;5;28mprint\u001b[39m(\u001b[38;5;124m'\u001b[39m\u001b[38;5;124mModel saved at: \u001b[39m\u001b[38;5;124m'\u001b[39m, model_name)\n\u001b[1;32m     19\u001b[0m \u001b[38;5;66;03m# plot and save the training and validation losses\u001b[39;00m\n\u001b[0;32m---> 20\u001b[0m plt\u001b[38;5;241m.\u001b[39mplot(\u001b[43mtrain_losses\u001b[49m, label\u001b[38;5;241m=\u001b[39m\u001b[38;5;124m'\u001b[39m\u001b[38;5;124mTraining Loss\u001b[39m\u001b[38;5;124m'\u001b[39m)\n\u001b[1;32m     21\u001b[0m plt\u001b[38;5;241m.\u001b[39mplot(val_losses, label\u001b[38;5;241m=\u001b[39m\u001b[38;5;124m'\u001b[39m\u001b[38;5;124mValidation Loss\u001b[39m\u001b[38;5;124m'\u001b[39m)\n\u001b[1;32m     22\u001b[0m plt\u001b[38;5;241m.\u001b[39mxlabel(\u001b[38;5;124m'\u001b[39m\u001b[38;5;124mEpoch\u001b[39m\u001b[38;5;124m'\u001b[39m)\n",
      "\u001b[0;31mNameError\u001b[0m: name 'train_losses' is not defined"
     ]
    }
   ],
   "source": [
    "import os\n",
    "import time\n",
    "import torch\n",
    "\n",
    "# INPUT_CHANNELS = one_sample[0].shape[2] # one_sample[0].shape[2] --> 3\n",
    "# OUTPUT_DIM = one_sample[1].shape[1] # one_sample[1].shape[1] --> 6\n",
    "NUM_WINDOWS = 3 # one_sample[0].shape[1] --> 3\n",
    "DATA_POINTS_OF_EACH_WINDOW = 900 # one_sample[0].shape[4] --> 900\n",
    "# HIDDEN_DIM = [32, 32, 64, 64, 128]\n",
    "# KERNEL_SIZE = (11, 5, 3, 3, 3)   \n",
    "# NUM_CONVLSTM_BLOCKS = 5\n",
    "\n",
    "os.makedirs('models', exist_ok=True)\n",
    "date_time_str = time.strftime(\"%Y%m%d-%H%M\")\n",
    "model_name = 'models/model_{}_epoch{}_lr{}_lambda{}_windows{}_datapoints{}.pth'.format(date_time_str, num_epochs, LEARNING_RATE, CUSTOM_LOSS_LAMBDA, NUM_WINDOWS, DATA_POINTS_OF_EACH_WINDOW)\n",
    "torch.save(model.state_dict(), model_name)\n",
    "print('Model saved at: ', model_name)\n",
    "\n",
    "# plot and save the training and validation losses\n",
    "plt.plot(train_losses, label='Training Loss')\n",
    "plt.plot(val_losses, label='Validation Loss')\n",
    "plt.xlabel('Epoch')\n",
    "plt.ylabel('Loss')\n",
    "plt.legend()\n",
    "plt.savefig('models/Train_and_val_loss_model_{}'.format(model_name.split('/')[1].split('.')[0]))\n",
    "plt.show()"
   ]
  }
 ],
 "metadata": {
  "kernelspec": {
   "display_name": "gaia-venv",
   "language": "python",
   "name": "python3"
  },
  "language_info": {
   "codemirror_mode": {
    "name": "ipython",
    "version": 3
   },
   "file_extension": ".py",
   "mimetype": "text/x-python",
   "name": "python",
   "nbconvert_exporter": "python",
   "pygments_lexer": "ipython3",
   "version": "3.10.12"
  }
 },
 "nbformat": 4,
 "nbformat_minor": 2
}
