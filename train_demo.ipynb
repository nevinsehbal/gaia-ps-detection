{
 "cells": [
  {
   "cell_type": "markdown",
   "metadata": {},
   "source": [
    "## Training demo for any model with custom loss function and SeismicDataLoader\n",
    "\n",
    "In this demo, SeismicConvLSTM is used as the model and CustomLoss is used as the loss function.\n",
    "- This demo uses train and validation dataloaders from dataloader.py. If you haven't seen dataloader_demo.ipynb, check it first.\n",
    "- First, import train and validation dataloader\n",
    "- Next, import custom loss function from customloss.py\n",
    "- Next, we add SeismicConvLSTM model for demo purposes\n",
    "- Next, import torch optimizer (we will use Adam, if you use other optimizers, import it)\n",
    "- Then, we add matplotlib plt for traning, validation graph plotting\n",
    "- Finally, add train_model function from trainer.py"
   ]
  },
  {
   "cell_type": "code",
   "execution_count": 1,
   "metadata": {},
   "outputs": [
    {
     "name": "stdout",
     "output_type": "stream",
     "text": [
      "\u001b[95m---------------- Dataset information: ----------------\u001b[0m\n",
      "\u001b[96m[I] Sample rate: 100 Hz\u001b[0m\n",
      "\u001b[96m[I] Chosen window size:900\u001b[0m\n",
      "\u001b[96m[I] Hopping size:300\u001b[0m\n",
      "\u001b[96m[I] Each sample is window_size/sample rate seconds long. Each sample has 3 channels.\u001b[0m\n",
      "\u001b[96m[I] Dataset values shape is: [num_samples, num_window, num_channel, (height) 1, (width) num_sample_points]\u001b[0m\n",
      "\u001b[96m[I] Dataset value shape: torch.Size([1575, 3, 3, 1, 900])\u001b[0m\n",
      "\u001b[96m[I] Dataset labels shape is: [num_samples, 4], where the 4 values are [p_idx, s_idx, p_confidence, s_confidence]\u001b[0m\n",
      "\u001b[96m[I] Dataset label shape:torch.Size([4725, 4])\u001b[0m\n",
      "\u001b[96m[I] One sample shape: torch.Size([3, 3, 1, 900])\u001b[0m\n",
      "\u001b[96m[I] One label shape: torch.Size([4])\u001b[0m\n",
      "\u001b[96m[I] An example sample's label: tensor([4.7900e+02, 1.0180e+03, 1.0000e+00, 0.0000e+00])\u001b[0m\n",
      "\u001b[96m[I] ----------------------------------------------------\u001b[0m\n",
      "\u001b[96m[I] First sample in the dataset:\u001b[0m\n",
      "\u001b[96m[I] Data shape: torch.Size([3, 3, 1, 900])\u001b[0m\n",
      "\u001b[96m[I] Label shape: torch.Size([4])\u001b[0m\n",
      "\u001b[96m[I] Label: tensor([-1., -1.,  0.,  0.])\u001b[0m\n",
      "\u001b[92m[S] --------------------------\n",
      "Dataloaders are created.\u001b[0m\n",
      "\u001b[92m[S] Train dataloader size:80\u001b[0m\n",
      "\u001b[92m[S] Validation dataloader size:80\u001b[0m\n",
      "\u001b[92m[S] Test dataloader size:1419\u001b[0m\n",
      "\u001b[92m[S] --------------------------\n",
      "\u001b[0m\n"
     ]
    }
   ],
   "source": [
    "from dataloader import train_dataloader, val_dataloader\n",
    "from customLoss import CustomLoss\n",
    "from convlstm import SeismicConvLSTM\n",
    "import torch.optim as optim\n",
    "import matplotlib.pyplot as plt\n",
    "from trainer import train_model"
   ]
  },
  {
   "cell_type": "markdown",
   "metadata": {},
   "source": [
    "### Model setup\n",
    "\n",
    "This below cell creates a model instance. If you'd like to use your own model, change this cell.\n",
    "The example SeismicConvLSTM model takes the below inputs:\n",
    "- input channel size\n",
    "- output dimension\n",
    "- numer of sequence windows\n",
    "- data points in each window\n",
    "- hidden dimensions of convlstm cells\n",
    "- kernel size of conv layers\n",
    "- number of convlstm cells\n",
    "\n",
    "model variable is used to keep the model"
   ]
  },
  {
   "cell_type": "code",
   "execution_count": 2,
   "metadata": {},
   "outputs": [
    {
     "name": "stdout",
     "output_type": "stream",
     "text": [
      "SeismicConvLSTM(\n",
      "  (convlstm): ConvLSTM(\n",
      "    (cell_list): ModuleList(\n",
      "      (0): ConvLSTMCell(\n",
      "        (convs): ModuleList(\n",
      "          (0): Conv2d(67, 256, kernel_size=(3, 3), stride=(1, 1), padding=(1, 1))\n",
      "          (1-3): 3 x Conv2d(256, 256, kernel_size=(3, 3), stride=(1, 1), padding=(1, 1))\n",
      "        )\n",
      "      )\n",
      "      (1): ConvLSTMCell(\n",
      "        (convs): ModuleList(\n",
      "          (0): Conv2d(128, 256, kernel_size=(3, 3), stride=(1, 1), padding=(1, 1))\n",
      "          (1-3): 3 x Conv2d(256, 256, kernel_size=(3, 3), stride=(1, 1), padding=(1, 1))\n",
      "        )\n",
      "      )\n",
      "    )\n",
      "  )\n",
      "  (fc1): Linear(in_features=172800, out_features=512, bias=True)\n",
      "  (fc2): Linear(in_features=512, out_features=4, bias=True)\n",
      ")\n"
     ]
    }
   ],
   "source": [
    "# Define the model\n",
    "# We are dynamically fetching the input channels, num_windows, data_points_of_each_window, and the output_dim from the dataset using the dataloader\n",
    "one_sample = next(iter(train_dataloader)) # one_sample[0].shape, one_sample[1].shape --> torch.Size([16, 3, 3, 1, 900]) torch.Size([16, 4])\n",
    "INPUT_CHANNELS = one_sample[0].shape[2] # one_sample[0].shape[2] --> 3\n",
    "OUTPUT_DIM = one_sample[1].shape[1] # one_sample[1].shape[1] --> 4\n",
    "NUM_WINDOWS = one_sample[0].shape[1] # one_sample[0].shape[1] --> 3\n",
    "DATA_POINTS_OF_EACH_WINDOW = one_sample[0].shape[4] # one_sample[0].shape[4] --> 900\n",
    "HIDDEN_DIM = [64, 64]\n",
    "KERNEL_SIZE = (3, 3)   \n",
    "NUM_CONVLSTM_BLOCKS = 2\n",
    "assert len(HIDDEN_DIM) == NUM_CONVLSTM_BLOCKS, \"The number of hidden dimensions should be equal to the number of ConvLSTM blocks\"\n",
    "model = SeismicConvLSTM(input_dim=INPUT_CHANNELS, hidden_dim=HIDDEN_DIM, kernel_size=KERNEL_SIZE, num_layers=NUM_CONVLSTM_BLOCKS, output_dim=OUTPUT_DIM, num_windows = NUM_WINDOWS, data_points = DATA_POINTS_OF_EACH_WINDOW)\n",
    "\n",
    "print(model)"
   ]
  },
  {
   "cell_type": "markdown",
   "metadata": {},
   "source": [
    "### Training the model\n",
    "We have been created dataloaders and model. Now we will train the model with generic train function.\n",
    "- First, initialize optimizer. In this demo, Adam optimizer is used with lr = LEARNING_RATE.\n",
    "- Next, set the loss function as criterion. In this demo, CustomLoss function with lambda_val = CUSTOM_LOSS_LAMBDA is used.\n",
    "- Then, set the number of epochs.\n",
    "- Next, train the model. train_model function trains the model with train_dataloader, and validates after each epoch with val_dataloader"
   ]
  },
  {
   "cell_type": "code",
   "execution_count": 3,
   "metadata": {},
   "outputs": [
    {
     "name": "stdout",
     "output_type": "stream",
     "text": [
      "Batch Loss: 382387.6875\n",
      "Batch Loss: 69162.3281\n",
      "Batch Loss: 4046856.2500\n",
      "Batch Loss: 588663.3125\n",
      "Batch Loss: 634277.8750\n",
      "Epoch 0/2, Training Loss: 1157346.1987\n",
      "Validation Loss: 674735.9760\n",
      "Batch Loss: 399381.5000\n",
      "Batch Loss: 583438.5625\n",
      "Batch Loss: 549737.1250\n",
      "Batch Loss: 119665.0859\n",
      "Batch Loss: 282117.1250\n",
      "Epoch 1/2, Training Loss: 389553.7965\n",
      "Validation Loss: 94448.7629\n",
      "Batch Loss: 121858.3516\n",
      "Batch Loss: 50228.1016\n",
      "Batch Loss: 38163.1172\n",
      "Batch Loss: 115547.9844\n",
      "Batch Loss: 157026.1719\n",
      "Epoch 2/2, Training Loss: 95014.4523\n",
      "Validation Loss: 159950.9976\n",
      "Training complete\n"
     ]
    }
   ],
   "source": [
    "LEARNING_RATE = 0.01\n",
    "optimizer = optim.Adam(model.parameters(), lr=LEARNING_RATE)\n",
    "\n",
    "CUSTOM_LOSS_LAMBDA = 1\n",
    "criterion = CustomLoss(lambda_val=CUSTOM_LOSS_LAMBDA)\n",
    "\n",
    "num_epochs = 3\n",
    "\n",
    "# Train the model with the training dataloader\n",
    "model, train_losses, val_losses = train_model(model, train_dataloader, val_dataloader, criterion, optimizer, num_epochs)"
   ]
  },
  {
   "cell_type": "code",
   "execution_count": 4,
   "metadata": {},
   "outputs": [
    {
     "name": "stdout",
     "output_type": "stream",
     "text": [
      "Model saved at:  models/model_20241003-1543_epoch3_lr0.01_lambda1_windows3_datapoints900.pth\n"
     ]
    },
    {
     "data": {
      "image/png": "[encoded data removed]",
      "text/plain": [
       "<Figure size 640x480 with 1 Axes>"
      ]
     },
     "metadata": {},
     "output_type": "display_data"
    }
   ],
   "source": [
    "import os\n",
    "import time\n",
    "import torch\n",
    "\n",
    "os.makedirs('models', exist_ok=True)\n",
    "date_time_str = time.strftime(\"%Y%m%d-%H%M\")\n",
    "model_name = 'models/model_{}_epoch{}_lr{}_lambda{}_windows{}_datapoints{}.pth'.format(date_time_str, num_epochs, LEARNING_RATE, CUSTOM_LOSS_LAMBDA, NUM_WINDOWS, DATA_POINTS_OF_EACH_WINDOW)\n",
    "torch.save(model.state_dict(), model_name)\n",
    "print('Model saved at: ', model_name)\n",
    "\n",
    "# plot and save the training and validation losses\n",
    "plt.plot(train_losses, label='Training Loss')\n",
    "plt.plot(val_losses, label='Validation Loss')\n",
    "plt.xlabel('Epoch')\n",
    "plt.ylabel('Loss')\n",
    "plt.legend()\n",
    "plt.savefig('models/Train_and_val_loss_model_{}'.format(model_name.split('/')[1].split('.')[0]))\n",
    "plt.show()"
   ]
  }
 ],
 "metadata": {
  "kernelspec": {
   "display_name": "Python 3",
   "language": "python",
   "name": "python3"
  },
  "language_info": {
   "codemirror_mode": {
    "name": "ipython",
    "version": 3
   },
   "file_extension": ".py",
   "mimetype": "text/x-python",
   "name": "python",
   "nbconvert_exporter": "python",
   "pygments_lexer": "ipython3",
   "version": "3.10.11"
  }
 },
 "nbformat": 4,
 "nbformat_minor": 2
}
